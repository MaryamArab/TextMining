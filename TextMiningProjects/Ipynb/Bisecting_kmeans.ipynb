{
 "cells": [
  {
   "cell_type": "code",
   "execution_count": 1,
   "metadata": {},
   "outputs": [
    {
     "ename": "ImportError",
     "evalue": "No module named pyclust",
     "traceback": [
      "\u001b[0;31m---------------------------------------------------------------------------\u001b[0m",
      "\u001b[0;31mImportError\u001b[0m                               Traceback (most recent call last)",
      "\u001b[0;32m<ipython-input-1-d71ec3506a39>\u001b[0m in \u001b[0;36m<module>\u001b[0;34m()\u001b[0m\n\u001b[1;32m      1\u001b[0m \u001b[0;32mimport\u001b[0m \u001b[0mmatplotlib\u001b[0m\u001b[0;34m.\u001b[0m\u001b[0mpyplot\u001b[0m \u001b[0;32mas\u001b[0m \u001b[0mplt\u001b[0m\u001b[0;34m\u001b[0m\u001b[0m\n\u001b[1;32m      2\u001b[0m \u001b[0;32mimport\u001b[0m \u001b[0mpandas\u001b[0m \u001b[0;32mas\u001b[0m \u001b[0mpd\u001b[0m\u001b[0;34m\u001b[0m\u001b[0m\n\u001b[0;32m----> 3\u001b[0;31m \u001b[0;32mimport\u001b[0m \u001b[0mpyclust\u001b[0m\u001b[0;34m\u001b[0m\u001b[0m\n\u001b[0m\u001b[1;32m      4\u001b[0m \u001b[0;32mimport\u001b[0m \u001b[0mnumpy\u001b[0m\u001b[0;34m\u001b[0m\u001b[0m\n\u001b[1;32m      5\u001b[0m \u001b[0;34m\u001b[0m\u001b[0m\n",
      "\u001b[0;31mImportError\u001b[0m: No module named pyclust"
     ],
     "output_type": "error"
    }
   ],
   "source": [
    "import matplotlib.pyplot as plt\n",
    "import pandas as pd\n",
    "import pyclust\n",
    "import numpy\n",
    "\n",
    "from sklearn.cluster import KMeans\n",
    "\n",
    "vectors = pd.read_csv(\"vectors-ns-all-100.csv\" )\n",
    "#from sklearn.preprocessing import StandardScaler\n",
    "#scaler = StandardScaler()\n",
    "#X_scaled = scaler.fit_transform( vectors )\n",
    "\n",
    "print(\"Compute structured Bisecting-Kmeans clustering...\")\n",
    "\n",
    "#cluster_range = range( 2, 6 )\n",
    "cluster_range2 = range( 2, 65)\n",
    "\n",
    "cluster_errors = []\n",
    "data= []\n",
    "for num_clusters in cluster_range2:\n",
    "    #print (\"?????????\", num_clusters)\n",
    "    clusters = pyclust.BisectKMeans(num_clusters)\n",
    "    clusters.fit(vectors.iloc[:, :].values)\n",
    "    #clusters.fit_predict(vectors)\n",
    "\n",
    "    #clusters = pyclust.Bisect(num_clusters).fit(vectors)\n",
    "    #cluster_errors.append( clusters.inertia_ )\n",
    "    #cluster_errors.append(clusters.sse_arr_)\n",
    "    #print (\"SSE\",clusters.sse_arr_)\n",
    "    data.append(sum(clusters.sse_arr_.values()))\n",
    "    print (\"ssse\",data)\n",
    "\n",
    "\n",
    "seri = clusters.sse_arr_\n",
    "print (\"Total Clustering SSE\", data)\n",
    "#print (\"!!!!!!!!!!\", clusters.sse_arr_)\n",
    "\n",
    "#print (\"Seriiiiiii\", seri.values())\n",
    "clusters_df = pd.DataFrame.from_dict( {\"num_clusters\":cluster_range2, \"cluster_errors\": data})\n",
    "\n",
    "\n",
    "print (clusters_df[0:10])\n",
    "\n",
    "plt.figure(figsize=(12,6))\n",
    "plt.plot( clusters_df.num_clusters, clusters_df.cluster_errors, marker = \"o\" )\n",
    "plt.show()\n",
    "print (\"***done****\")"
   ]
  },
  {
   "cell_type": "code",
   "execution_count": null,
   "metadata": {
    "collapsed": true
   },
   "outputs": [],
   "source": []
  }
 ],
 "metadata": {
  "kernelspec": {
   "display_name": "Python 2",
   "language": "python",
   "name": "python2"
  },
  "language_info": {
   "codemirror_mode": {
    "name": "ipython",
    "version": 2
   },
   "file_extension": ".py",
   "mimetype": "text/x-python",
   "name": "python",
   "nbconvert_exporter": "python",
   "pygments_lexer": "ipython2",
   "version": "2.7.14"
  }
 },
 "nbformat": 4,
 "nbformat_minor": 2
}
