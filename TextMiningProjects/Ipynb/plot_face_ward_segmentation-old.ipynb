{
 "cells": [
  {
   "cell_type": "code",
   "execution_count": 25,
   "metadata": {
    "collapsed": true
   },
   "outputs": [],
   "source": [
    "%matplotlib inline"
   ]
  },
  {
   "cell_type": "markdown",
   "metadata": {},
   "source": [
    "\n",
    "# A demo of structured Ward hierarchical clustering on a raccoon face image\n",
    "\n",
    "\n",
    "Compute the segmentation of a 2D image with Ward hierarchical\n",
    "clustering. The clustering is spatially constrained in order\n",
    "for each segmented region to be in one piece.\n",
    "\n"
   ]
  },
  {
   "cell_type": "code",
   "execution_count": 48,
   "metadata": {},
   "outputs": [
    {
     "name": "stdout",
     "output_type": "stream",
     "text": [
      "Automatically created module for IPython interactive environment\n",
      "Compute structured hierarchical clustering...\n",
      "Silhouette Coefficient: 0.209\n"
     ]
    }
   ],
   "source": [
    "print(__doc__)\n",
    "\n",
    "import numpy as np\n",
    "from __future__ import absolute_import, division, print_function\n",
    "import codecs\n",
    "import csv\n",
    "import glob\n",
    "import re\n",
    "import nltk\n",
    "import os\n",
    "\n",
    "import pandas as pd\n",
    "from sklearn.cluster import KMeans\n",
    "import codecs\n",
    "import glob\n",
    "import re\n",
    "from sklearn.manifold import TSNE\n",
    "import matplotlib.pyplot as plt\n",
    "import seaborn as sn\n",
    "import matplotlib.cm as cm\n",
    "import numpy as np\n",
    "from sklearn.cluster import DBSCAN\n",
    "from sklearn import metrics\n",
    "from sklearn.datasets.samples_generator import make_blobs\n",
    "from sklearn.preprocessing import StandardScaler\n",
    "from sklearn.feature_extraction.image import grid_to_graph\n",
    "from sklearn.cluster import AgglomerativeClustering\n",
    "\n",
    "\n",
    "\n",
    "# #############################################################################\n",
    "# Generate data\n",
    "# try:  # SciPy >= 0.16 have face in misc\n",
    "#     from scipy.misc import face\n",
    "#     face = face(gray=True)\n",
    "# except ImportError:\n",
    "#     face = sp.face(gray=True)\n",
    "\n",
    "# # Resize it to 10% of the original size to speed up the processing\n",
    "# face = sp.misc.imresize(face, 0.10) / 255.\n",
    "\n",
    "# X = np.reshape(face, (-1, 1))\n",
    "\n",
    "vectors =  pd.read_csv(\"/Users/maryam/Documents/Courses/Fall 2017/Data Mining/Project/Python/DocToVec/Toy-Doc2Vec/doc2vec-master/vectors-ns-all-100.csv\" )\n",
    "X = vectors[['1', '2', '3', '4', '5', '6', '7', '8', '9', '10', '11', '12', '13', '14', '15', '16', '17', '18', '19', '20', '21', '22', '23', '24', '25', '26', '27', '28', '29', '30', '31', '32', '33', '34', '35', '36', '37', '38', '39', '40', '41', '42', '43', '44', '45', '46', '47', '48', '49', '50', '51', '52', '53', '54', '55', '56', '57', '58', '59', '60', '61', '62', '63', '64', '65', '66', '67', '68', '69', '70', '71', '72', '73', '74', '75', '76', '77', '78', '79', '80', '81', '82', '83', '84', '85', '86', '87', '88', '89', '90', '91', '92', '93', '94', '95', '96', '97', '98', '99', '100']]\n",
    "# #############################################################################\n",
    "vectors.head(6)\n",
    "# #############################################################################\n",
    "# Define the structure A of the data. Pixels connected to their neighbors.\n",
    "# connectivity = grid_to_graph(*face.shape)\n",
    "\n",
    "# #############################################################################\n",
    "# Compute clustering\n",
    "print(\"Compute structured hierarchical clustering...\")\n",
    "# st = time.time()\n",
    "n_clusters = 7# number of regions\n",
    "ward = AgglomerativeClustering(n_clusters=n_clusters, linkage='average')\n",
    "# ward = Ward(n_clusters=n_clusters)\n",
    "\n",
    "ward.fit(X)\n",
    "print(\"Silhouette Coefficient: %0.3f\"\n",
    "      % metrics.silhouette_score(X, ward.labels_))\n",
    "\n",
    "mat = metrics.pairwise.pairwise_distances(X, Y=None, metric='cosine')\n",
    "# print(\"Silhouette Coefficient Samples: %0.3f\"\n",
    "#       % metrics.silhouette_samples(mat, ward.labels_, metric='precomputed'))\n",
    "\n",
    "\n",
    "# label = np.reshape(ward.labels_, face.shape)\n",
    "# print(\"Elapsed time: \", time.time() - st)\n",
    "# print(\"Number of pixels: \", label.size)\n",
    "# print(\"Number of clusters: \", np.unique(label).size)\n",
    "\n",
    "# # #############################################################################\n",
    "# # Plot the results on an image\n",
    "# plt.figure(figsize=(5, 5))\n",
    "# plt.imshow(face, cmap=plt.cm.gray)\n",
    "# for l in range(n_clusters):\n",
    "#     plt.contour(label == l, contours=1,\n",
    "#                 colors=[plt.cm.spectral(l / float(n_clusters)), ])\n",
    "# plt.xticks(())\n",
    "# plt.yticks(())\n",
    "# plt.show()"
   ]
  },
  {
   "cell_type": "code",
   "execution_count": null,
   "metadata": {
    "collapsed": true
   },
   "outputs": [],
   "source": []
  }
 ],
 "metadata": {
  "kernelspec": {
   "display_name": "Python 2",
   "language": "python",
   "name": "python2"
  },
  "language_info": {
   "codemirror_mode": {
    "name": "ipython",
    "version": 2
   },
   "file_extension": ".py",
   "mimetype": "text/x-python",
   "name": "python",
   "nbconvert_exporter": "python",
   "pygments_lexer": "ipython2",
   "version": "2.7.14"
  }
 },
 "nbformat": 4,
 "nbformat_minor": 1
}
